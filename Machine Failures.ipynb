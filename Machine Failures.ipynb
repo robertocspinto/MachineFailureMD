{
 "cells": [
  {
   "cell_type": "code",
   "execution_count": 42,
   "metadata": {},
   "outputs": [
    {
     "data": {
      "text/html": [
       "<span style=white-space:pre-wrap>'Pacote: dplyr  já Instalado'</span>"
      ],
      "text/latex": [
       "'Pacote: dplyr  já Instalado'"
      ],
      "text/markdown": [
       "<span style=white-space:pre-wrap>'Pacote: dplyr  já Instalado'</span>"
      ],
      "text/plain": [
       "[1] \"Pacote: dplyr  já Instalado\""
      ]
     },
     "metadata": {},
     "output_type": "display_data"
    },
    {
     "data": {
      "text/html": [
       "<span style=white-space:pre-wrap>'Pacote: readr  já Instalado'</span>"
      ],
      "text/latex": [
       "'Pacote: readr  já Instalado'"
      ],
      "text/markdown": [
       "<span style=white-space:pre-wrap>'Pacote: readr  já Instalado'</span>"
      ],
      "text/plain": [
       "[1] \"Pacote: readr  já Instalado\""
      ]
     },
     "metadata": {},
     "output_type": "display_data"
    },
    {
     "data": {
      "text/html": [
       "<span style=white-space:pre-wrap>'Pacote: stringr  já Instalado'</span>"
      ],
      "text/latex": [
       "'Pacote: stringr  já Instalado'"
      ],
      "text/markdown": [
       "<span style=white-space:pre-wrap>'Pacote: stringr  já Instalado'</span>"
      ],
      "text/plain": [
       "[1] \"Pacote: stringr  já Instalado\""
      ]
     },
     "metadata": {},
     "output_type": "display_data"
    },
    {
     "data": {
      "text/html": [
       "<span style=white-space:pre-wrap>'Pacote: stringi  já Instalado'</span>"
      ],
      "text/latex": [
       "'Pacote: stringi  já Instalado'"
      ],
      "text/markdown": [
       "<span style=white-space:pre-wrap>'Pacote: stringi  já Instalado'</span>"
      ],
      "text/plain": [
       "[1] \"Pacote: stringi  já Instalado\""
      ]
     },
     "metadata": {},
     "output_type": "display_data"
    },
    {
     "data": {
      "text/html": [
       "<span style=white-space:pre-wrap>'Pacote: sqldf  já Instalado'</span>"
      ],
      "text/latex": [
       "'Pacote: sqldf  já Instalado'"
      ],
      "text/markdown": [
       "<span style=white-space:pre-wrap>'Pacote: sqldf  já Instalado'</span>"
      ],
      "text/plain": [
       "[1] \"Pacote: sqldf  já Instalado\""
      ]
     },
     "metadata": {},
     "output_type": "display_data"
    },
    {
     "data": {
      "text/html": [
       "<span style=white-space:pre-wrap>'Pacote: microbenchmark  já Instalado'</span>"
      ],
      "text/latex": [
       "'Pacote: microbenchmark  já Instalado'"
      ],
      "text/markdown": [
       "<span style=white-space:pre-wrap>'Pacote: microbenchmark  já Instalado'</span>"
      ],
      "text/plain": [
       "[1] \"Pacote: microbenchmark  já Instalado\""
      ]
     },
     "metadata": {},
     "output_type": "display_data"
    },
    {
     "data": {
      "text/html": [
       "<span style=white-space:pre-wrap>'Pacote: mgcv  já Instalado'</span>"
      ],
      "text/latex": [
       "'Pacote: mgcv  já Instalado'"
      ],
      "text/markdown": [
       "<span style=white-space:pre-wrap>'Pacote: mgcv  já Instalado'</span>"
      ],
      "text/plain": [
       "[1] \"Pacote: mgcv  já Instalado\""
      ]
     },
     "metadata": {},
     "output_type": "display_data"
    },
    {
     "data": {
      "text/html": [
       "<span style=white-space:pre-wrap>'Pacote: ggplot2  já Instalado'</span>"
      ],
      "text/latex": [
       "'Pacote: ggplot2  já Instalado'"
      ],
      "text/markdown": [
       "<span style=white-space:pre-wrap>'Pacote: ggplot2  já Instalado'</span>"
      ],
      "text/plain": [
       "[1] \"Pacote: ggplot2  já Instalado\""
      ]
     },
     "metadata": {},
     "output_type": "display_data"
    },
    {
     "data": {
      "text/html": [
       "<span style=white-space:pre-wrap>'Pacote: sqldf  já Instalado'</span>"
      ],
      "text/latex": [
       "'Pacote: sqldf  já Instalado'"
      ],
      "text/markdown": [
       "<span style=white-space:pre-wrap>'Pacote: sqldf  já Instalado'</span>"
      ],
      "text/plain": [
       "[1] \"Pacote: sqldf  já Instalado\""
      ]
     },
     "metadata": {},
     "output_type": "display_data"
    },
    {
     "data": {
      "text/html": [
       "<span style=white-space:pre-wrap>'Pacote: tcltk  já Instalado'</span>"
      ],
      "text/latex": [
       "'Pacote: tcltk  já Instalado'"
      ],
      "text/markdown": [
       "<span style=white-space:pre-wrap>'Pacote: tcltk  já Instalado'</span>"
      ],
      "text/plain": [
       "[1] \"Pacote: tcltk  já Instalado\""
      ]
     },
     "metadata": {},
     "output_type": "display_data"
    },
    {
     "data": {
      "text/html": [
       "<span style=white-space:pre-wrap>'Pacote: e1071  já Instalado'</span>"
      ],
      "text/latex": [
       "'Pacote: e1071  já Instalado'"
      ],
      "text/markdown": [
       "<span style=white-space:pre-wrap>'Pacote: e1071  já Instalado'</span>"
      ],
      "text/plain": [
       "[1] \"Pacote: e1071  já Instalado\""
      ]
     },
     "metadata": {},
     "output_type": "display_data"
    },
    {
     "data": {
      "text/html": [
       "<span style=white-space:pre-wrap>'Pacote: rminer  já Instalado'</span>"
      ],
      "text/latex": [
       "'Pacote: rminer  já Instalado'"
      ],
      "text/markdown": [
       "<span style=white-space:pre-wrap>'Pacote: rminer  já Instalado'</span>"
      ],
      "text/plain": [
       "[1] \"Pacote: rminer  já Instalado\""
      ]
     },
     "metadata": {},
     "output_type": "display_data"
    },
    {
     "data": {
      "text/html": [
       "<span style=white-space:pre-wrap>'Pacote: caret  já Instalado'</span>"
      ],
      "text/latex": [
       "'Pacote: caret  já Instalado'"
      ],
      "text/markdown": [
       "<span style=white-space:pre-wrap>'Pacote: caret  já Instalado'</span>"
      ],
      "text/plain": [
       "[1] \"Pacote: caret  já Instalado\""
      ]
     },
     "metadata": {},
     "output_type": "display_data"
    },
    {
     "data": {
      "text/html": [
       "<span style=white-space:pre-wrap>'Pacote: glmnet  já Instalado'</span>"
      ],
      "text/latex": [
       "'Pacote: glmnet  já Instalado'"
      ],
      "text/markdown": [
       "<span style=white-space:pre-wrap>'Pacote: glmnet  já Instalado'</span>"
      ],
      "text/plain": [
       "[1] \"Pacote: glmnet  já Instalado\""
      ]
     },
     "metadata": {},
     "output_type": "display_data"
    },
    {
     "data": {
      "text/html": [
       "<span style=white-space:pre-wrap>'Pacote: leaps  já Instalado'</span>"
      ],
      "text/latex": [
       "'Pacote: leaps  já Instalado'"
      ],
      "text/markdown": [
       "<span style=white-space:pre-wrap>'Pacote: leaps  já Instalado'</span>"
      ],
      "text/plain": [
       "[1] \"Pacote: leaps  já Instalado\""
      ]
     },
     "metadata": {},
     "output_type": "display_data"
    },
    {
     "data": {
      "text/html": [
       "<span style=white-space:pre-wrap>'Pacote: scales  já Instalado'</span>"
      ],
      "text/latex": [
       "'Pacote: scales  já Instalado'"
      ],
      "text/markdown": [
       "<span style=white-space:pre-wrap>'Pacote: scales  já Instalado'</span>"
      ],
      "text/plain": [
       "[1] \"Pacote: scales  já Instalado\""
      ]
     },
     "metadata": {},
     "output_type": "display_data"
    }
   ],
   "source": [
    "#Função instalar pacotes\n",
    "InstalaPacotes = function(pacote){\n",
    "  if (pacote %in% rownames(installed.packages())){\n",
    "    mensagem <- paste(\"Pacote:\", pacote, \" já Instalado\")\n",
    "  }else{\n",
    "    mensagem <- paste(\"Instalando Pacote\", pacote)\n",
    "    install.packages(pacote)  \n",
    "  }\n",
    "  return(mensagem)  \n",
    "}\n",
    "\n",
    "#Instala Pacotes Necessários\n",
    "InstalaPacotes('dplyr') \n",
    "InstalaPacotes('readr')\n",
    "InstalaPacotes('stringr')\n",
    "InstalaPacotes('stringi')\n",
    "InstalaPacotes('sqldf')\n",
    "InstalaPacotes('microbenchmark')\n",
    "InstalaPacotes('mgcv')\n",
    "InstalaPacotes('ggplot2')\n",
    "InstalaPacotes('sqldf')\n",
    "InstalaPacotes('tcltk')\n",
    "InstalaPacotes('e1071')\n",
    "InstalaPacotes('rminer')\n",
    "InstalaPacotes(\"caret\")\n",
    "InstalaPacotes(\"glmnet\")\n",
    "InstalaPacotes(\"leaps\")\n",
    "InstalaPacotes(\"scales\")\n",
    "\n",
    "#Inicio do Programa\n",
    "\n",
    "#Carrega Bibliotecas:\n",
    "library('dplyr')\n",
    "library('readr')\n",
    "library('stringr')\n",
    "library('stringi')\n",
    "library('sqldf')\n",
    "library('microbenchmark')\n",
    "library('mgcv')\n",
    "library('ggplot2')\n",
    "library('sqldf')\n",
    "library('tcltk')\n",
    "library('e1071')\n",
    "library('rminer')\n",
    "library('caret')\n",
    "library('glmnet')\n",
    "library('leaps')\n",
    "library('scales')"
   ]
  },
  {
   "cell_type": "code",
   "execution_count": 43,
   "metadata": {},
   "outputs": [
    {
     "data": {
      "text/html": [
       "'/home/roberto'"
      ],
      "text/latex": [
       "'/home/roberto'"
      ],
      "text/markdown": [
       "'/home/roberto'"
      ],
      "text/plain": [
       "[1] \"/home/roberto\""
      ]
     },
     "metadata": {},
     "output_type": "display_data"
    },
    {
     "data": {
      "text/plain": [
       "                  Date       Temperature       Humidity           Operator   \n",
       " 2016-01-01 00:00:00:   1   Min.   : 5.00   Min.   : 65.00   Operator2:1952  \n",
       " 2016-01-01 01:00:00:   1   1st Qu.:62.00   1st Qu.: 80.00   Operator1: 976  \n",
       " 2016-01-01 02:00:00:   1   Median :64.00   Median : 83.00   Operator3: 976  \n",
       " 2016-01-01 03:00:00:   1   Mean   :64.03   Mean   : 83.34   Operator4: 976  \n",
       " 2016-01-01 04:00:00:   1   3rd Qu.:66.00   3rd Qu.: 87.00   Operator5: 976  \n",
       " 2016-01-01 05:00:00:   1   Max.   :78.00   Max.   :122.00   Operator6: 976  \n",
       " (Other)            :8778                                    (Other)  :1952  \n",
       "    Measure1       Measure2       Measure3         Measure4         Measure5   \n",
       " Min.   : 155   Min.   :0.00   Min.   :0.0000   Min.   : 155.0   Min.   : 155  \n",
       " 1st Qu.: 629   1st Qu.:0.00   1st Qu.:0.0000   1st Qu.: 608.8   1st Qu.: 606  \n",
       " Median :1096   Median :1.00   Median :1.0000   Median :1058.0   Median :1077  \n",
       " Mean   :1091   Mean   :1.49   Mean   :0.9992   Mean   :1071.6   Mean   :1076  \n",
       " 3rd Qu.:1555   3rd Qu.:2.00   3rd Qu.:2.0000   3rd Qu.:1533.0   3rd Qu.:1541  \n",
       " Max.   :2011   Max.   :3.00   Max.   :2.0000   Max.   :2011.0   Max.   :2011  \n",
       "                                                                               \n",
       "    Measure6       Measure7       Measure8       Measure9      Measure10   \n",
       " Min.   : 155   Min.   : 155   Min.   : 155   Min.   : 155   Min.   : 155  \n",
       " 1st Qu.: 623   1st Qu.: 621   1st Qu.: 612   1st Qu.: 631   1st Qu.: 619  \n",
       " Median :1072   Median :1089   Median :1074   Median :1078   Median :1080  \n",
       " Mean   :1076   Mean   :1087   Mean   :1077   Mean   :1082   Mean   :1082  \n",
       " 3rd Qu.:1537   3rd Qu.:1558   3rd Qu.:1541   3rd Qu.:1532   3rd Qu.:1547  \n",
       " Max.   :2011   Max.   :2011   Max.   :2011   Max.   :2011   Max.   :2011  \n",
       "                                                                           \n",
       "   Measure11      Measure12      Measure13      Measure14      Measure15   \n",
       " Min.   : 155   Min.   : 155   Min.   : 155   Min.   : 155   Min.   : 155  \n",
       " 1st Qu.: 627   1st Qu.: 627   1st Qu.: 609   1st Qu.: 617   1st Qu.: 614  \n",
       " Median :1093   Median :1082   Median :1067   Median :1088   Median :1076  \n",
       " Mean   :1089   Mean   :1088   Mean   :1077   Mean   :1088   Mean   :1082  \n",
       " 3rd Qu.:1550   3rd Qu.:1552   3rd Qu.:1539   3rd Qu.:1560   3rd Qu.:1550  \n",
       " Max.   :2011   Max.   :2011   Max.   :2011   Max.   :2011   Max.   :2011  \n",
       "                                                                           \n",
       " Hours.Since.Previous.Failure Failure     X.Date.year    X.Date.month   \n",
       " Min.   :  1.0                No :8703   Min.   :2016   Min.   : 1.000  \n",
       " 1st Qu.: 90.0                Yes:  81   1st Qu.:2016   1st Qu.: 4.000  \n",
       " Median :195.0                           Median :2016   Median : 7.000  \n",
       " Mean   :217.3                           Mean   :2016   Mean   : 6.514  \n",
       " 3rd Qu.:324.0                           3rd Qu.:2016   3rd Qu.:10.000  \n",
       " Max.   :666.0                           Max.   :2016   Max.   :12.000  \n",
       "                                                                        \n",
       " X.Date.day.of.month X.Date.day.of.week  X.Date.hour    X.Date.minute\n",
       " Min.   : 1.00       Min.   :1.000      Min.   : 0.00   Min.   :0    \n",
       " 1st Qu.: 8.00       1st Qu.:2.000      1st Qu.: 5.75   1st Qu.:0    \n",
       " Median :16.00       Median :4.000      Median :11.50   Median :0    \n",
       " Mean   :15.76       Mean   :4.008      Mean   :11.50   Mean   :0    \n",
       " 3rd Qu.:23.00       3rd Qu.:6.000      3rd Qu.:17.25   3rd Qu.:0    \n",
       " Max.   :31.00       Max.   :7.000      Max.   :23.00   Max.   :0    \n",
       "                                                                     \n",
       " X.Date.second\n",
       " Min.   :0    \n",
       " 1st Qu.:0    \n",
       " Median :0    \n",
       " Mean   :0    \n",
       " 3rd Qu.:0    \n",
       " Max.   :0    \n",
       "              "
      ]
     },
     "metadata": {},
     "output_type": "display_data"
    },
    {
     "name": "stderr",
     "output_type": "stream",
     "text": [
      "Warning message in cbind(parts$left, ellip_h, parts$right, deparse.level = 0L):\n",
      "“number of rows of result is not a multiple of vector length (arg 2)”Warning message in cbind(parts$left, ellip_h, parts$right, deparse.level = 0L):\n",
      "“number of rows of result is not a multiple of vector length (arg 2)”Warning message in cbind(parts$left, ellip_h, parts$right, deparse.level = 0L):\n",
      "“number of rows of result is not a multiple of vector length (arg 2)”Warning message in cbind(parts$left, ellip_h, parts$right, deparse.level = 0L):\n",
      "“number of rows of result is not a multiple of vector length (arg 2)”"
     ]
    },
    {
     "data": {
      "text/html": [
       "<table>\n",
       "<thead><tr><th scope=col>Date</th><th scope=col>Temperature</th><th scope=col>Humidity</th><th scope=col>Operator</th><th scope=col>Measure1</th><th scope=col>Measure2</th><th scope=col>Measure3</th><th scope=col>Measure4</th><th scope=col>Measure5</th><th scope=col>Measure6</th><th scope=col>⋯</th><th scope=col>Measure15</th><th scope=col>Hours.Since.Previous.Failure</th><th scope=col>Failure</th><th scope=col>X.Date.year</th><th scope=col>X.Date.month</th><th scope=col>X.Date.day.of.month</th><th scope=col>X.Date.day.of.week</th><th scope=col>X.Date.hour</th><th scope=col>X.Date.minute</th><th scope=col>X.Date.second</th></tr></thead>\n",
       "<tbody>\n",
       "</tbody>\n",
       "</table>\n"
      ],
      "text/latex": [
       "\\begin{tabular}{r|llllllllllllllllllllllllllll}\n",
       " Date & Temperature & Humidity & Operator & Measure1 & Measure2 & Measure3 & Measure4 & Measure5 & Measure6 & ⋯ & Measure15 & Hours.Since.Previous.Failure & Failure & X.Date.year & X.Date.month & X.Date.day.of.month & X.Date.day.of.week & X.Date.hour & X.Date.minute & X.Date.second\\\\\n",
       "\\hline\n",
       "\\end{tabular}\n"
      ],
      "text/markdown": [
       "\n",
       "Date | Temperature | Humidity | Operator | Measure1 | Measure2 | Measure3 | Measure4 | Measure5 | Measure6 | ⋯ | Measure15 | Hours.Since.Previous.Failure | Failure | X.Date.year | X.Date.month | X.Date.day.of.month | X.Date.day.of.week | X.Date.hour | X.Date.minute | X.Date.second | \n",
       "||\n",
       "\n",
       "\n"
      ],
      "text/plain": [
       "     Date Temperature Humidity Operator Measure1 Measure2 Measure3 Measure4\n",
       "     Measure5 Measure6 ⋯ Measure15 Hours.Since.Previous.Failure Failure\n",
       "     X.Date.year X.Date.month X.Date.day.of.month X.Date.day.of.week\n",
       "     X.Date.hour X.Date.minute X.Date.second"
      ]
     },
     "metadata": {},
     "output_type": "display_data"
    },
    {
     "data": {
      "text/plain": [
       "\n",
       "  No  Yes \n",
       "8703   81 "
      ]
     },
     "metadata": {},
     "output_type": "display_data"
    },
    {
     "data": {
      "text/plain": [
       "\n",
       "         No         Yes \n",
       "0.990778689 0.009221311 "
      ]
     },
     "metadata": {},
     "output_type": "display_data"
    },
    {
     "ename": "ERROR",
     "evalue": "Error in table(train_machineFailure$Failure): objeto 'train_machineFailure' não encontrado\n",
     "output_type": "error",
     "traceback": [
      "Error in table(train_machineFailure$Failure): objeto 'train_machineFailure' não encontrado\nTraceback:\n",
      "1. prop.table(table(train_machineFailure$Failure))",
      "2. table(train_machineFailure$Failure)"
     ]
    }
   ],
   "source": [
    "# NORMALIZACAO MIN-MAX\n",
    "normalize.minmax <- function(data, norm.set=NULL) {\n",
    "  data = data.frame(data)\n",
    "  if(is.null(norm.set)) {\n",
    "    minmax = data.frame(t(sapply(data, max, na.rm=TRUE)))\n",
    "    minmax = rbind(minmax, t(sapply(data, min, na.rm=TRUE)))\n",
    "  } else {\n",
    "    minmax = norm.set\n",
    "  }# if\n",
    "  data = rbind(data, minmax)\n",
    "  normalize_minmax <- function(x) {\n",
    "    maxd = x[length(x)-1]\n",
    "    mind = x[length(x)]\n",
    "    return ((x-mind)/(maxd-mind))\n",
    "  }\n",
    "  data = data.frame(sapply(data, normalize_minmax))\n",
    "  data = data[1:(nrow(data)-2),]\n",
    "  return (list(data, minmax))\n",
    "}# normalize.minmax\n",
    "\n",
    "machineFailureDF <- read.csv(\"bigml_59618dae49c4a1365800238d.csv\",head=TRUE,sep=\",\");\n",
    "getwd()\n",
    "\n",
    "# Sumário do data frame 'machineFailure'\n",
    "summary(machineFailureDF)\n",
    "\n",
    "# Verificar existência de NA no data frame\n",
    "machineFailureDF[!complete.cases(machineFailureDF),]\n",
    "\n",
    "# machineFailureDF$OperatorNum<- as.integer(machineFailureDF$Operator)\n",
    "failureDF<-subset(machineFailureDF, Failure==\"Yes\")\n",
    "NoFailureDF<-subset(machineFailureDF, Failure==\"No\")\n",
    "\n",
    "# Create dataframe 'machineFailureDFnorm' normalized\n",
    "machineFailureDFnorm <- data.frame(c(normalize.minmax(machineFailureDF$Temperature)[[1]]))\n",
    "\n",
    "# Normalize Humidity\n",
    "machineFailureDFnorm$Humiditynorm <- normalize.minmax(machineFailureDF$Humidity)[[1]]\n",
    "\n",
    "# Normalize Measure1 to 15\n",
    "machineFailureDFnorm$Measure1norm <- normalize.minmax(machineFailureDF$Measure1)[[1]]\n",
    "machineFailureDFnorm$Measure2norm <- normalize.minmax(machineFailureDF$Measure2)[[1]]\n",
    "machineFailureDFnorm$Measure3norm <- normalize.minmax(machineFailureDF$Measure3)[[1]]\n",
    "machineFailureDFnorm$Measure4norm <- normalize.minmax(machineFailureDF$Measure4)[[1]]\n",
    "machineFailureDFnorm$Measure5norm <- normalize.minmax(machineFailureDF$Measure5)[[1]]\n",
    "machineFailureDFnorm$Measure6norm <- normalize.minmax(machineFailureDF$Measure6)[[1]]\n",
    "machineFailureDFnorm$Measure7norm <- normalize.minmax(machineFailureDF$Measure7)[[1]]\n",
    "machineFailureDFnorm$Measure8norm <- normalize.minmax(machineFailureDF$Measure8)[[1]]\n",
    "machineFailureDFnorm$Measure9norm <- normalize.minmax(machineFailureDF$Measure9)[[1]]\n",
    "machineFailureDFnorm$Measure10norm <- normalize.minmax(machineFailureDF$Measure10)[[1]]\n",
    "machineFailureDFnorm$Measure11norm <- normalize.minmax(machineFailureDF$Measure11)[[1]]\n",
    "machineFailureDFnorm$Measure12norm <- normalize.minmax(machineFailureDF$Measure12)[[1]]\n",
    "machineFailureDFnorm$Measure13norm <- normalize.minmax(machineFailureDF$Measure13)[[1]]\n",
    "machineFailureDFnorm$Measure14norm <- normalize.minmax(machineFailureDF$Measure14)[[1]]\n",
    "machineFailureDFnorm$Measure15norm <- normalize.minmax(machineFailureDF$Measure15)[[1]]\n",
    "\n",
    "# Normalize Time columns\n",
    "machineFailureDFnorm$HrPrevFailnorm <- normalize.minmax(machineFailureDF$Hours.Since.Previous.Failure)[[1]]\n",
    "machineFailureDFnorm$day.of.weeknorm <- normalize.minmax(machineFailureDF$X.Date.day.of.week)[[1]]\n",
    "machineFailureDFnorm$Date.hournorm <- normalize.minmax(machineFailureDF$X.Date.hour)[[1]]\n",
    "\n",
    "# Transformation of column 'Operator' categorical data into boolean new columns\n",
    "machineFailureDFnorm$Operator <- machineFailureDF$Operator\n",
    "machineFailureDFnorm <- data.frame(machineFailureDFnorm, model.matrix(~machineFailureDFnorm$Operator - 1))\n",
    "\n",
    "# Copy \n",
    "machineFailureDFnorm$Failurenorm <- machineFailureDF$Failure\n",
    "\n",
    "# Delete columns 'Operator'\n",
    "machineFailureDFnorm <- subset(machineFailureDFnorm, select = -c(Operator))\n",
    "\n",
    "# Change column names according to new data appended\n",
    "colnames(machineFailureDFnorm) <- c(\"Temperature\",\n",
    "                                \"Humidity\",\n",
    "                                \"Measure1\",\"Measure2\",\n",
    "                                \"Measure3\",\"Measure4\",\n",
    "                                \"Measure5\",\"Measure6\",\n",
    "                                \"Measure7\",\"Measure8\",\n",
    "                                \"Measure9\",\"Measure10\",\n",
    "                                \"Measure11\",\"Measure12\",\n",
    "                                \"Measure13\",\"Measure14\",\n",
    "                                \"Measure15\",\"HrPrevFail\",\n",
    "                                \"day.of.week\",\"Date.hour\",\n",
    "                                \"Operator1\",\"Operator2\",\"Operator3\",\"Operator4\",\n",
    "                                \"Operator5\",\"Operator6\",\"Operator7\",\"Operator8\",\n",
    "                                \"Failure\")\n",
    "\n",
    "# check label column\n",
    "table(machineFailureDFnorm$Failure)\n",
    "\n",
    "#check the proportion of each label column\n",
    "prop.table(table(machineFailureDF$Failure))\n",
    "prop.table(table(train_machineFailure$Failure))\n",
    "prop.table(table(test_machineFailure$Failure))\n",
    "\n",
    "# Check the summary of the model\n",
    "e1071model\n",
    "\n",
    "# Create test & train bases 80 - 20\n",
    "part_machineFailure<- sample(2,nrow(machineFailureDFnorm),replace =TRUE,prob = c(0.8,0.2))\n",
    "train_machineFailure <- machineFailureDFnorm[part_machineFailure==1,]\n",
    "test_machineFailure <- machineFailureDFnorm[part_machineFailure==2,]\n",
    "nrow(train_machineFailure)\n",
    "nrow(test_machineFailure)\n",
    "\n",
    "# Create test & train bases 67 - 33\n",
    "part_67_33_machineFailure<- sample(2,nrow(machineFailureDFnorm),replace =TRUE,prob = c(0.67,0.33))\n",
    "train_67_33_machineFailure <- machineFailureDFnorm[part_67_33_machineFailure==1,]\n",
    "test_67_33_machineFailure <- machineFailureDFnorm[part_67_33_machineFailure==2,]\n",
    "nrow(train_67_33_machineFailure)\n",
    "nrow(test_67_33_machineFailure)\n",
    "\n",
    "# 80-20:Check the conditional probability of the categorical variable 'Operator'\n",
    "prop.table(table(train_machineFailure$Operator2, train_machineFailure$Failure), 2)\n",
    "# Exibe uma tabela com o número de\n",
    "table(train_machineFailure$Operator1, train_machineFailure$Failure)\n",
    "# Exibe uma tabela com o número de rótulos 'Failure' ('Yes' - 'No')\n",
    "table(train_machineFailure$Failure)\n",
    "table(test_machineFailure$Failure)\n",
    "\n",
    "# 67-33:Check the conditional probability of the categorical variable 'Operator'\n",
    "prop.table(table(train_67_33_machineFailure$Operator2, train_67_33_machineFailure$Failure), 2)\n",
    "# Exibe uma tabela com o número de\n",
    "table(train_67_33_machineFailure$Operator1, train_67_33_machineFailure$Failure)\n",
    "# Exibe uma tabela com o número de rótulos 'Failure' ('Yes' - 'No')\n",
    "table(train_67_33_machineFailure$Failure)\n",
    "table(test_67_33_machineFailure$Failure)\n"
   ]
  },
  {
   "cell_type": "code",
   "execution_count": 44,
   "metadata": {},
   "outputs": [
    {
     "data": {},
     "metadata": {},
     "output_type": "display_data"
    },
    {
     "data": {
      "text/html": [
       "<strong>png:</strong> 2"
      ],
      "text/latex": [
       "\\textbf{png:} 2"
      ],
      "text/markdown": [
       "**png:** 2"
      ],
      "text/plain": [
       "png \n",
       "  2 "
      ]
     },
     "metadata": {},
     "output_type": "display_data"
    },
    {
     "data": {},
     "metadata": {},
     "output_type": "display_data"
    },
    {
     "data": {
      "text/html": [
       "<strong>png:</strong> 2"
      ],
      "text/latex": [
       "\\textbf{png:} 2"
      ],
      "text/markdown": [
       "**png:** 2"
      ],
      "text/plain": [
       "png \n",
       "  2 "
      ]
     },
     "metadata": {},
     "output_type": "display_data"
    },
    {
     "data": {},
     "metadata": {},
     "output_type": "display_data"
    },
    {
     "data": {
      "text/html": [
       "<strong>png:</strong> 2"
      ],
      "text/latex": [
       "\\textbf{png:} 2"
      ],
      "text/markdown": [
       "**png:** 2"
      ],
      "text/plain": [
       "png \n",
       "  2 "
      ]
     },
     "metadata": {},
     "output_type": "display_data"
    },
    {
     "data": {
      "text/html": [
       "<ol class=list-inline>\n",
       "\t<li>'Date'</li>\n",
       "\t<li>'Temperature'</li>\n",
       "\t<li>'Humidity'</li>\n",
       "\t<li>'Operator'</li>\n",
       "\t<li>'Measure1'</li>\n",
       "\t<li>'Measure2'</li>\n",
       "\t<li>'Measure3'</li>\n",
       "\t<li>'Measure4'</li>\n",
       "\t<li>'Measure5'</li>\n",
       "\t<li>'Measure6'</li>\n",
       "\t<li>'Measure7'</li>\n",
       "\t<li>'Measure8'</li>\n",
       "\t<li>'Measure9'</li>\n",
       "\t<li>'Measure10'</li>\n",
       "\t<li>'Measure11'</li>\n",
       "\t<li>'Measure12'</li>\n",
       "\t<li>'Measure13'</li>\n",
       "\t<li>'Measure14'</li>\n",
       "\t<li>'Measure15'</li>\n",
       "\t<li>'Hours.Since.Previous.Failure'</li>\n",
       "\t<li>'Failure'</li>\n",
       "\t<li>'X.Date.year'</li>\n",
       "\t<li>'X.Date.month'</li>\n",
       "\t<li>'X.Date.day.of.month'</li>\n",
       "\t<li>'X.Date.day.of.week'</li>\n",
       "\t<li>'X.Date.hour'</li>\n",
       "\t<li>'X.Date.minute'</li>\n",
       "\t<li>'X.Date.second'</li>\n",
       "</ol>\n"
      ],
      "text/latex": [
       "\\begin{enumerate*}\n",
       "\\item 'Date'\n",
       "\\item 'Temperature'\n",
       "\\item 'Humidity'\n",
       "\\item 'Operator'\n",
       "\\item 'Measure1'\n",
       "\\item 'Measure2'\n",
       "\\item 'Measure3'\n",
       "\\item 'Measure4'\n",
       "\\item 'Measure5'\n",
       "\\item 'Measure6'\n",
       "\\item 'Measure7'\n",
       "\\item 'Measure8'\n",
       "\\item 'Measure9'\n",
       "\\item 'Measure10'\n",
       "\\item 'Measure11'\n",
       "\\item 'Measure12'\n",
       "\\item 'Measure13'\n",
       "\\item 'Measure14'\n",
       "\\item 'Measure15'\n",
       "\\item 'Hours.Since.Previous.Failure'\n",
       "\\item 'Failure'\n",
       "\\item 'X.Date.year'\n",
       "\\item 'X.Date.month'\n",
       "\\item 'X.Date.day.of.month'\n",
       "\\item 'X.Date.day.of.week'\n",
       "\\item 'X.Date.hour'\n",
       "\\item 'X.Date.minute'\n",
       "\\item 'X.Date.second'\n",
       "\\end{enumerate*}\n"
      ],
      "text/markdown": [
       "1. 'Date'\n",
       "2. 'Temperature'\n",
       "3. 'Humidity'\n",
       "4. 'Operator'\n",
       "5. 'Measure1'\n",
       "6. 'Measure2'\n",
       "7. 'Measure3'\n",
       "8. 'Measure4'\n",
       "9. 'Measure5'\n",
       "10. 'Measure6'\n",
       "11. 'Measure7'\n",
       "12. 'Measure8'\n",
       "13. 'Measure9'\n",
       "14. 'Measure10'\n",
       "15. 'Measure11'\n",
       "16. 'Measure12'\n",
       "17. 'Measure13'\n",
       "18. 'Measure14'\n",
       "19. 'Measure15'\n",
       "20. 'Hours.Since.Previous.Failure'\n",
       "21. 'Failure'\n",
       "22. 'X.Date.year'\n",
       "23. 'X.Date.month'\n",
       "24. 'X.Date.day.of.month'\n",
       "25. 'X.Date.day.of.week'\n",
       "26. 'X.Date.hour'\n",
       "27. 'X.Date.minute'\n",
       "28. 'X.Date.second'\n",
       "\n",
       "\n"
      ],
      "text/plain": [
       " [1] \"Date\"                         \"Temperature\"                 \n",
       " [3] \"Humidity\"                     \"Operator\"                    \n",
       " [5] \"Measure1\"                     \"Measure2\"                    \n",
       " [7] \"Measure3\"                     \"Measure4\"                    \n",
       " [9] \"Measure5\"                     \"Measure6\"                    \n",
       "[11] \"Measure7\"                     \"Measure8\"                    \n",
       "[13] \"Measure9\"                     \"Measure10\"                   \n",
       "[15] \"Measure11\"                    \"Measure12\"                   \n",
       "[17] \"Measure13\"                    \"Measure14\"                   \n",
       "[19] \"Measure15\"                    \"Hours.Since.Previous.Failure\"\n",
       "[21] \"Failure\"                      \"X.Date.year\"                 \n",
       "[23] \"X.Date.month\"                 \"X.Date.day.of.month\"         \n",
       "[25] \"X.Date.day.of.week\"           \"X.Date.hour\"                 \n",
       "[27] \"X.Date.minute\"                \"X.Date.second\"               "
      ]
     },
     "metadata": {},
     "output_type": "display_data"
    }
   ],
   "source": [
    "library (ggplot2)\n",
    "\n",
    "# Gráfico dos Operadores X Falha\n",
    "png(filename=\"image/barPlotOperadorFalha.png\", width=800, height=400)\n",
    "ggplot(failureDF, aes(Operator)) +\n",
    "  theme(axis.text.x=element_text(angle=90,colour=\"grey20\",face=\"bold\",size=10),legend.title=element_text(size=10)) + \n",
    "  scale_y_continuous(\"Nº falhas\") +\n",
    "  scale_x_discrete(\"Operador\") +\n",
    "  ggtitle(\"Operadores por Falha\") +\n",
    "  geom_bar(width=0.5)\n",
    "dev.off()\n",
    "\n",
    "# Gráfico dos Operadores X Medição\n",
    "png(filename=\"image/barPlotOperadorMedicao.png\", width=800, height=400)\n",
    "ggplot(machineFailureDF, aes(x=Operator,col=Failure, fill=Failure))+\n",
    "  scale_x_discrete(\"Operador\") + theme(axis.text.x=element_text(angle=90,colour=\"grey20\",face=\"bold\",size=10)) +\n",
    "  scale_y_continuous(\"Nº Medições\") +\n",
    "  ggtitle(\"Operador por Medição\") + scale_fill_grey() + scale_color_grey() + \n",
    "  geom_bar(colour=\"black\", width=0.5)\n",
    "dev.off()\n",
    "\n",
    "# Gráfico dos Horas desde Falha Anterior\n",
    "totalFailures <- factor(c(1, nrow(failureDF)))\n",
    "png(filename=\"image/barPlotHorasDesdeFalhaAnterior.png\", width=800, height=300)\n",
    "ggplot(failureDF, aes(x=factor(Hours.Since.Previous.Failure))) + geom_bar() + \n",
    "  scale_x_discrete(\"Nº horas\") + \n",
    "  scale_y_continuous(\"Nº falhas\") +\n",
    "  ggtitle(\"Nº de Horas desde Falha Anterior\") + scale_fill_grey() + scale_color_grey() \n",
    "dev.off()\n",
    "\n",
    "colnames(failureDF)"
   ]
  },
  {
   "cell_type": "code",
   "execution_count": 45,
   "metadata": {},
   "outputs": [
    {
     "ename": "ERROR",
     "evalue": "Error in eval(expr, envir, enclos): objeto 'failure1' não encontrado\n",
     "output_type": "error",
     "traceback": [
      "Error in eval(expr, envir, enclos): objeto 'failure1' não encontrado\nTraceback:\n"
     ]
    }
   ],
   "source": [
    "library(scales)\n",
    "library (ggplot2)\n",
    "Measure1<- machineFailureDF [1:149, ]\n",
    "\n",
    "##Paramaters definition\n",
    "num.bins = 15 #The number of bins you want to be used\n",
    "w.data = 1 #The column you have the data in\n",
    "\n",
    "##Calculating frequency\n",
    "d.min = min(as.double(failure1$Date))\n",
    "d.max = max(as.double(failure1$Date))\n",
    "breaks = seq(d.min, d.max, by = (d.max-d.min)/num.bins)\n",
    "d.cut = cut((as.double(failure1[,w.data])), breaks, right = FALSE, dig.lab = 6)\n",
    "#d.cut = cut((dataset[,w.data]), breaks, right = FALSE, dig.lab = 6)\n",
    "d.freq = table(d.cut)\n",
    "\n",
    "# ScatterPlot Failure 1\n",
    "png(filename=\"image/scatterPlotMedida1XFalha1.png\", width=800, height=400)\n",
    "ScaterPlotMesaure1failure1 <- ggplot(failure1, aes(Date, Measure1)) + geom_point() +\n",
    "#  xlab(\"Data\") + \n",
    "  ylab(\"sensor 1\") +\n",
    "#  theme(axis.text.x = element_text(angle = 90, vjust = 1, hjust = 0), title=element_text(size=16, face='bold')) +\n",
    "#  theme(legend.margin=margin(t=0, r=0, b=0, l=0, unit=\"cm\") ,legend.spacing.x=unit(x=d.freq,units=\"mm\") , axis.text.x = element_text(angle = 90, vjust = 1, hjust = 0), title=element_text(size=16, face='bold')) +\n",
    "  #scale_x_discrete(breaks = seq(failure1$Date[d.min], failure1$Date[d.max], by= 2)) +\n",
    "  scale_x_discrete(labels = abbreviate) +\n",
    "  ggtitle(\"Sensor 1 por data\")\n",
    "ScaterPlotMesaure1failure1\n",
    "dev.off()\n",
    "\n",
    "png(filename=\"image/scatterPlotTempXFalha1.png\", width=800, height=400)\n",
    "ScaterPlotTempfailure1 <- ggplot(failure1, aes(Date, Temperature)) + geom_point() +\n",
    "  #xlab(\"data\") + ylab(\"temperatura\") +\n",
    "  ylab(\"sensor 1\") +\n",
    "  #theme(axis.text.x = element_text(angle = 90, vjust = 1, hjust = 0), title=element_text(size=16, face='bold')) +\n",
    "  ggtitle(\"Desenvolvimento da Temperatura (falha 1)\")\n",
    "#  scale_x_date(date_breaks = \"1 hour\", date_minor_breaks = \"1 hour\", date_labels = \"%m/%d\")\n",
    "#  scale_x_date(breaks = waiver(), date_labels = \"%m/%d\")\n",
    "ScaterPlotTempfailure1\n",
    "dev.off()"
   ]
  },
  {
   "cell_type": "code",
   "execution_count": 46,
   "metadata": {},
   "outputs": [
    {
     "data": {
      "text/html": [
       "<strong>png:</strong> 2"
      ],
      "text/latex": [
       "\\textbf{png:} 2"
      ],
      "text/markdown": [
       "**png:** 2"
      ],
      "text/plain": [
       "png \n",
       "  2 "
      ]
     },
     "metadata": {},
     "output_type": "display_data"
    },
    {
     "data": {},
     "metadata": {},
     "output_type": "display_data"
    },
    {
     "data": {
      "text/html": [
       "<strong>png:</strong> 2"
      ],
      "text/latex": [
       "\\textbf{png:} 2"
      ],
      "text/markdown": [
       "**png:** 2"
      ],
      "text/plain": [
       "png \n",
       "  2 "
      ]
     },
     "metadata": {},
     "output_type": "display_data"
    },
    {
     "data": {},
     "metadata": {},
     "output_type": "display_data"
    },
    {
     "data": {
      "text/html": [
       "<strong>png:</strong> 2"
      ],
      "text/latex": [
       "\\textbf{png:} 2"
      ],
      "text/markdown": [
       "**png:** 2"
      ],
      "text/plain": [
       "png \n",
       "  2 "
      ]
     },
     "metadata": {},
     "output_type": "display_data"
    },
    {
     "data": {},
     "metadata": {},
     "output_type": "display_data"
    },
    {
     "data": {
      "text/html": [
       "<strong>png:</strong> 2"
      ],
      "text/latex": [
       "\\textbf{png:} 2"
      ],
      "text/markdown": [
       "**png:** 2"
      ],
      "text/plain": [
       "png \n",
       "  2 "
      ]
     },
     "metadata": {},
     "output_type": "display_data"
    },
    {
     "data": {},
     "metadata": {},
     "output_type": "display_data"
    },
    {
     "data": {
      "text/html": [
       "<strong>png:</strong> 2"
      ],
      "text/latex": [
       "\\textbf{png:} 2"
      ],
      "text/markdown": [
       "**png:** 2"
      ],
      "text/plain": [
       "png \n",
       "  2 "
      ]
     },
     "metadata": {},
     "output_type": "display_data"
    },
    {
     "name": "stderr",
     "output_type": "stream",
     "text": [
      "Warning message:\n",
      "“Removed 764 rows containing non-finite values (stat_boxplot).”"
     ]
    },
    {
     "data": {},
     "metadata": {},
     "output_type": "display_data"
    },
    {
     "data": {
      "text/html": [
       "<strong>png:</strong> 2"
      ],
      "text/latex": [
       "\\textbf{png:} 2"
      ],
      "text/markdown": [
       "**png:** 2"
      ],
      "text/plain": [
       "png \n",
       "  2 "
      ]
     },
     "metadata": {},
     "output_type": "display_data"
    },
    {
     "data": {},
     "metadata": {},
     "output_type": "display_data"
    },
    {
     "data": {
      "image/png": "[encoded data removed]",
      "text/plain": [
       "plot without title"
      ]
     },
     "metadata": {},
     "output_type": "display_data"
    },
    {
     "data": {},
     "metadata": {},
     "output_type": "display_data"
    },
    {
     "data": {
      "image/png": "[encoded data removed]",
      "text/plain": [
       "plot without title"
      ]
     },
     "metadata": {},
     "output_type": "display_data"
    },
    {
     "data": {
      "image/png": "[encoded data removed]",
      "text/plain": [
       "plot without title"
      ]
     },
     "metadata": {},
     "output_type": "display_data"
    }
   ],
   "source": [
    "library(ggplot2)\n",
    "\n",
    "# BoxPlot Measure 4-15\n",
    "png(filename=\"image/boxPlotMeasure4-15.png\", width=1000, height=500)\n",
    "boxplot(machineFailureDF$Measure4, machineFailureDF$Measure5, machineFailureDF$Measure6, machineFailureDF$Measure7, machineFailureDF$Measure8, machineFailureDF$Measure9, machineFailureDF$Measure10, machineFailureDF$Measure11, machineFailureDF$Measure12, machineFailureDF$Measure13, machineFailureDF$Measure14, machineFailureDF$Measure15,las=2, names = c(\"Measure 4\",\"Measure 5\",\"Measure 6\",\"Measure 7\",\"Measure 8\",\"Measure 9\",\"Measure 10\",\"Measure 11\",\"Measure 12\",\"Measure 13\",\"Measure 14\",\"Measure 15\"))\n",
    "dev.off()\n",
    "\n",
    "# BoxPlot Measure 1\n",
    "png(filename=\"image/boxPlotMeasure1.png\", width=240, height=400)\n",
    "ggplot(machineFailureDF, aes(x=1, y=Measure1)) +\n",
    "  scale_x_discrete(\"Measure 1\") + theme(axis.text.x=element_text(angle=90,colour=\"grey20\",face=\"bold\",size=12)) +\n",
    "  scale_y_continuous(\"Medições\") +\n",
    "  ggtitle(\"Medição 1\") + scale_fill_grey() + scale_color_grey() +\n",
    "  geom_boxplot(colour=\"black\", width=0.5)\n",
    "dev.off()\n",
    "\n",
    "# BoxPlot Measure 2\n",
    "png(filename=\"image/boxPlotMeasure2.png\", width=240, height=400)\n",
    "ggplot(machineFailureDF, aes(x=1, y=Measure2)) +\n",
    "  scale_x_discrete(\"Measure 2\") + theme(axis.text.x=element_text(angle=90,colour=\"grey20\",face=\"bold\",size=12)) +\n",
    "  scale_y_continuous(\"Medições\") +\n",
    "  ggtitle(\"Medição 2\") + scale_fill_grey() + scale_color_grey() +\n",
    "  geom_boxplot(colour=\"black\", width=0.5)\n",
    "dev.off()\n",
    "\n",
    "# BoxPlot Measure 3\n",
    "png(filename=\"image/boxPlotMeasure3.png\", width=240, height=400)\n",
    "ggplot(machineFailureDF, aes(x=1, y=Measure3)) +\n",
    "  scale_x_discrete(\"Measure 3\") + theme(axis.text.x=element_text(angle=90,colour=\"grey20\",face=\"bold\",size=12)) +\n",
    "  scale_y_continuous(\"Medições\") +\n",
    "  ggtitle(\"Medição 3\") + scale_fill_grey() + scale_color_grey() +\n",
    "  geom_boxplot(colour=\"black\", width=0.5)\n",
    "dev.off()\n",
    "\n",
    "boxplot(machineFailureDF$Measure1, machineFailureDF$Measure2, machineFailureDF$Measure3, las=2, names = c(\"Measure 1\",\"Measure 2\",\"Measure 3\"))\n",
    "\n",
    "# Gráfico BoxPlot de Falha X Temperatura\n",
    "png(filename=\"image/boxPlotTemperaturaXFalha.png\", width=800, height=400)\n",
    "ggplot(machineFailureDF, aes(x = Failure, y = Temperature)) +\n",
    "  scale_x_discrete(\"Falha\") +\n",
    "  scale_y_continuous(\"Temperatura\",breaks = seq(0,75,15),limits=c(5, 80)) +\n",
    "  ggtitle(\"Falha por Temperatura\") +\n",
    "  geom_boxplot(colour=\"black\", width=0.5)\n",
    "dev.off()\n",
    "\n",
    "# Gráfico BoxPlot de Falha X Umidade\n",
    "png(filename=\"image/boxPlotUmidadeXFalha.png\", width=800, height=600)\n",
    "ggplot(machineFailureDF, aes(x = Failure, y = Humidity)) +\n",
    "  geom_boxplot(colour=\"black\", width=0.5) + scale_x_discrete(\"Falha\") +\n",
    "  scale_y_continuous(\"Umidade\",breaks = seq(60,90,10),limits=c(60, 90)) +\n",
    "  ggtitle(\"Falha por Umidade\")\n",
    "dev.off()\n",
    "\n",
    "# Gráfico BoxPlot de Temperatura\n",
    "ggplot(machineFailureDF, aes(group = machineFailureDF$Failure, x= machineFailureDF$Failure, y=machineFailureDF$Temperature)) + geom_boxplot() + scale_x_discrete(\"Falha\") + scale_y_continuous(\"Temperatura\")\n",
    "\n",
    "# Gráfico BoxPlot de Umidade\n",
    "\n",
    "# Gráfico BoxPlot de Measure 1\n",
    "ggplot(machineFailureDF, aes(group = machineFailureDF$Failure, x= machineFailureDF$Failure, y=machineFailureDF$Measure1)) + geom_boxplot() + scale_x_discrete(\"Falha\") + scale_y_continuous(\"Sensor 1\")"
   ]
  },
  {
   "cell_type": "code",
   "execution_count": 50,
   "metadata": {},
   "outputs": [
    {
     "ename": "ERROR",
     "evalue": "Error in is.data.frame(data): objeto 'train_machineFailure' não encontrado\n",
     "output_type": "error",
     "traceback": [
      "Error in is.data.frame(data): objeto 'train_machineFailure' não encontrado\nTraceback:\n",
      "1. naiveBayes(Failure ~ ., data = train_machineFailure)",
      "2. naiveBayes.formula(Failure ~ ., data = train_machineFailure)",
      "3. is.data.frame(data)"
     ]
    }
   ],
   "source": [
    "library(e1071)\n",
    "library(rminer)\n",
    "library(caret)\n",
    "\n",
    "#model building 80-20\n",
    "e1071model <- naiveBayes(Failure ~ ., data=train_machineFailure)\n",
    "e1071model\n",
    "\n",
    "# 80 - 20: Predição\n",
    "e1071predictions <- predict(e1071model, test_machineFailure)\n",
    "head(e1071predictions, n=5)\n",
    "\n",
    "print(confusionMatrix(e1071predictions, test_machineFailure$Failure,positive=\"Yes\",\n",
    "                      dnn = c(\"Predictions\", \"True\")))\n",
    "\n",
    "#model building 67-33\n",
    "e1071model_67_33 <- naiveBayes(Failure ~ ., data=train_67_33_machineFailure)\n",
    "e1071model_67_33\n",
    "\n",
    "# 67 - 33: Predição \n",
    "e1071predictions_67_33 <- predict(e1071model_67_33, test_67_33_machineFailure)\n",
    "head(e1071predictions_67_33, n=5)\n",
    "\n",
    "print(confusionMatrix(e1071predictions_67_33, test_67_33_machineFailure$Failure,positive=\"Yes\",\n",
    "                      dnn = c(\"Predictions\", \"True\")))\n",
    "save.image()\n",
    "load(\".RData\")"
   ]
  },
  {
   "cell_type": "code",
   "execution_count": null,
   "metadata": {
    "collapsed": true
   },
   "outputs": [],
   "source": []
  }
 ],
 "metadata": {
  "kernelspec": {
   "display_name": "R",
   "language": "R",
   "name": "ir"
  },
  "language_info": {
   "codemirror_mode": "r",
   "file_extension": ".r",
   "mimetype": "text/x-r-source",
   "name": "R",
   "pygments_lexer": "r",
   "version": "3.4.0"
  }
 },
 "nbformat": 4,
 "nbformat_minor": 2
}
